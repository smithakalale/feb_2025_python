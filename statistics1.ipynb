{
 "cells": [
  {
   "cell_type": "code",
   "execution_count": 25,
   "id": "3384606b-fe9f-41cb-9dfe-741f76d69683",
   "metadata": {},
   "outputs": [
    {
     "name": "stdout",
     "output_type": "stream",
     "text": [
      "Ford, Chevy, Honda, Toyota, Toyota, Nissan, Kia, Nissan, Chevy, Toyota, Honda, Chevy, Toyota, Nissan, Ford, Toyota, Nissan, Mercedes, Chevy, Ford, Nissan, Toyota, Nissan, Ford, Chevy, Toyota, Nissan, Honda, Porsche, Hyundai, Chevy, Chevy, Honda, Toyota, Chevy, Ford, Nissan, Toyota, Chevy, Honda, Chevy, Saturn, Toyota, Chevy, Chevy, Nissan, Honda, Toyota, Toyota, Nissan\n",
      "total lines = 1\n",
      " The list of cars\n",
      "\n",
      "['Ford', ' Chevy', ' Honda', ' Toyota', ' Toyota', ' Nissan', ' Kia', ' Nissan', ' Chevy', ' Toyota', ' Honda', ' Chevy', ' Toyota', ' Nissan', ' Ford', ' Toyota', ' Nissan', ' Mercedes', ' Chevy', ' Ford', ' Nissan', ' Toyota', ' Nissan', ' Ford', ' Chevy', ' Toyota', ' Nissan', ' Honda', ' Porsche', ' Hyundai', ' Chevy', ' Chevy', ' Honda', ' Toyota', ' Chevy', ' Ford', ' Nissan', ' Toyota', ' Chevy', ' Honda', ' Chevy', ' Saturn', ' Toyota', ' Chevy', ' Chevy', ' Nissan', ' Honda', ' Toyota', ' Toyota', ' Nissan']\n",
      "total entries = 50\n"
     ]
    },
    {
     "data": {
      "text/plain": [
       "'Ford'"
      ]
     },
     "execution_count": 25,
     "metadata": {},
     "output_type": "execute_result"
    }
   ],
   "source": [
    "file_name='cars.txt'\n",
    "with open(file_name) as file:\n",
    "    data=file.read()\n",
    "print(data)\n",
    "\n",
    "#1\n",
    "list_car =[]\n",
    "with open(file_name) as file:\n",
    "    for count,line in enumerate(file):\n",
    "        pass\n",
    "    print(\"total lines =\", count+1)\n",
    "    \n",
    "with open(file_name) as file:\n",
    "    for i in file:\n",
    "        list_car = i.split(',')\n",
    "print(\" The list of cars\\n\")\n",
    "print(list_car)\n",
    "print(f\"total entries = {len(list_car)}\")\n",
    "max(list_car)min(list_car)"
   ]
  },
  {
   "cell_type": "code",
   "execution_count": 34,
   "id": "d05d5109-f72a-41ce-ac85-29c5e80e0b45",
   "metadata": {},
   "outputs": [
    {
     "name": "stdout",
     "output_type": "stream",
     "text": [
      "Ford, Chevy, Honda, Toyota, Toyota, Nissan, Kia, Nissan, Chevy, Toyota, Honda, Chevy, Toyota, Nissan, Ford, Toyota, Nissan, Mercedes, Chevy, Ford, Nissan, Toyota, Nissan, Ford, Chevy, Toyota, Nissan, Honda, Porsche, Hyundai, Chevy, Chevy, Honda, Toyota, Chevy, Ford, Nissan, Toyota, Chevy, Honda, Chevy, Saturn, Toyota, Chevy, Chevy, Nissan, Honda, Toyota, Toyota, Nissan\n",
      "total lines = 1\n",
      " The list of cars\n",
      "\n",
      "['Ford', ' Chevy', ' Honda', ' Toyota', ' Toyota', ' Nissan', ' Kia', ' Nissan', ' Chevy', ' Toyota', ' Honda', ' Chevy', ' Toyota', ' Nissan', ' Ford', ' Toyota', ' Nissan', ' Mercedes', ' Chevy', ' Ford', ' Nissan', ' Toyota', ' Nissan', ' Ford', ' Chevy', ' Toyota', ' Nissan', ' Honda', ' Porsche', ' Hyundai', ' Chevy', ' Chevy', ' Honda', ' Toyota', ' Chevy', ' Ford', ' Nissan', ' Toyota', ' Chevy', ' Honda', ' Chevy', ' Saturn', ' Toyota', ' Chevy', ' Chevy', ' Nissan', ' Honda', ' Toyota', ' Toyota', ' Nissan']\n",
      "total entries = 50\n"
     ]
    },
    {
     "data": {
      "text/plain": [
       "0"
      ]
     },
     "execution_count": 34,
     "metadata": {},
     "output_type": "execute_result"
    }
   ],
   "source": []
  },
  {
   "cell_type": "code",
   "execution_count": 60,
   "id": "7b759dd3-9ed5-4001-8b4a-6800ab3bb1f3",
   "metadata": {},
   "outputs": [
    {
     "name": "stdout",
     "output_type": "stream",
     "text": [
      "Ford, Chevy, Honda, Toyota, Toyota, Nissan, Kia, Nissan, Chevy, Toyota, Honda, Chevy, Toyota, Nissan, Ford, Toyota, Nissan, Mercedes, Chevy, Ford, Nissan, Toyota, Nissan, Ford, Chevy, Toyota, Nissan, Honda, Porsche, Hyundai, Chevy, Chevy, Honda, Toyota, Chevy, Ford, Nissan, Toyota, Chevy, Honda, Chevy, Saturn, Toyota, Chevy, Chevy, Nissan, Honda, Toyota, Toyota, Nissan\n",
      "total lines = 1\n",
      " The list of cars\n",
      "\n",
      "['Ford', ' Chevy', ' Honda', ' Toyota', ' Toyota', ' Nissan', ' Kia', ' Nissan', ' Chevy', ' Toyota', ' Honda', ' Chevy', ' Toyota', ' Nissan', ' Ford', ' Toyota', ' Nissan', ' Mercedes', ' Chevy', ' Ford', ' Nissan', ' Toyota', ' Nissan', ' Ford', ' Chevy', ' Toyota', ' Nissan', ' Honda', ' Porsche', ' Hyundai', ' Chevy', ' Chevy', ' Honda', ' Toyota', ' Chevy', ' Ford', ' Nissan', ' Toyota', ' Chevy', ' Honda', ' Chevy', ' Saturn', ' Toyota', ' Chevy', ' Chevy', ' Nissan', ' Honda', ' Toyota', ' Toyota', ' Nissan']\n",
      "total entries = 50\n",
      "the max numbered entry in the list is for:\n",
      "Ford\n",
      "the min numbered entry in the list is for:\n",
      " Chevy\n",
      "new list\n",
      "['Ford', 'Chevy', 'Honda', 'Toyota', 'Toyota', 'Nissan', 'Kia', 'Nissan', 'Chevy', 'Toyota', 'Honda', 'Chevy', 'Toyota', 'Nissan', 'Ford', 'Toyota', 'Nissan', 'Mercedes', 'Chevy', 'Ford', 'Nissan', 'Toyota', 'Nissan', 'Ford', 'Chevy', 'Toyota', 'Nissan', 'Honda', 'Porsche', 'Hyundai', 'Chevy', 'Chevy', 'Honda', 'Toyota', 'Chevy', 'Ford', 'Nissan', 'Toyota', 'Chevy', 'Honda', 'Chevy', 'Saturn', 'Toyota', 'Chevy', 'Chevy', 'Nissan', 'Honda', 'Toyota', 'Toyota', 'Nissan']\n",
      "6\n"
     ]
    }
   ],
   "source": [
    "file_name='cars.txt'\n",
    "with open(file_name) as file:\n",
    "    data=file.read()\n",
    "print(data)\n",
    "\n",
    "#1\n",
    "list_car =[]\n",
    "list_car1=[]\n",
    "with open(file_name) as file:\n",
    "    for count,line in enumerate(file):\n",
    "        pass\n",
    "    print(\"total lines =\", count+1)\n",
    "    \n",
    "with open(file_name) as file:\n",
    "    for i in file:\n",
    "        list_car = i.split(',')\n",
    "        \n",
    "print(\" The list of cars\\n\")\n",
    "print(list_car)\n",
    "print(f\"total entries = {len(list_car)}\")\n",
    "\n",
    "print(\"the max numbered entry in the list is for:\")\n",
    "print(max(list_car))\n",
    "\n",
    "print(\"the min numbered entry in the list is for:\")\n",
    "print(min(list_car))\n",
    "for i in list_car:\n",
    "    str1 = i\n",
    "    str1 = str1.strip()\n",
    "    list_car1.append(str1)\n",
    "print(\"new list\")\n",
    "print(list_car1)\n",
    "\n",
    "num = list_car1.count('Honda')\n",
    "print(num)"
   ]
  },
  {
   "cell_type": "code",
   "execution_count": 129,
   "id": "18f4fde3-59a7-4717-82f5-547a1a174741",
   "metadata": {},
   "outputs": [
    {
     "name": "stdout",
     "output_type": "stream",
     "text": [
      "56\n",
      "18.904761904761905\n",
      "[11, 11, 11, 11, 11, 11, 12, 13, 13, 13, 14, 16, 17, 18, 19, 19, 20, 22, 23, 45, 67]\n",
      "21\n",
      "10.5\n",
      "True\n",
      "10.0\n",
      "11\n"
     ]
    }
   ],
   "source": [
    "data = [11,11,12,11,11,11,11,45,67,23,16,17,19,18,22,20,19,13,13,13,14]\n",
    "range = max(data)-min(data)\n",
    "print(range)\n",
    "\n",
    "sum =0\n",
    "for i in data:\n",
    "    sum += i\n",
    "\n",
    "mean = sum/(len(data))\n",
    "print(mean)\n",
    "\n",
    "data.sort()\n",
    "print(data)\n",
    "print(len(data))\n",
    "count = len(data)/2\n",
    "print(count)\n",
    "\n",
    "res = isinstance(count, float)  \n",
    "print(res) \n",
    "\n",
    "if res == True:\n",
    "  \n",
    "    count -= 0.5\n",
    "    int(count)\n",
    "    print(count)  \n",
    "\n",
    "\n",
    "median = data[int(count)]\n",
    "median\n",
    "\n",
    "\n",
    "mode = max(set(data),key=data.count)\n",
    "print(mode)"
   ]
  },
  {
   "cell_type": "code",
   "execution_count": 117,
   "id": "9f334586-856f-41e1-a6de-606839dd8a02",
   "metadata": {},
   "outputs": [
    {
     "name": "stdout",
     "output_type": "stream",
     "text": [
      "2\n"
     ]
    }
   ],
   "source": [
    "### most fequest mode ####\n",
    "\n",
    "def most_frequent(List):\n",
    "    return max(set(List), key=List.count)\n",
    "\n",
    "List = [2, 1, 2, 2, 1, 3]\n",
    "print(most_frequent(List))"
   ]
  },
  {
   "cell_type": "code",
   "execution_count": 159,
   "id": "5def7ab2-19f4-4dd2-ae1d-2407e7a8b4a0",
   "metadata": {},
   "outputs": [
    {
     "name": "stdout",
     "output_type": "stream",
     "text": [
      "RANGE\n",
      "56\n",
      "MEAN\n",
      "19.3\n",
      "[11, 11, 11, 11, 11, 12, 13, 13, 13, 14, 16, 17, 18, 19, 19, 20, 22, 23, 45, 67]\n",
      "total elements\n",
      "20\n",
      "10.5\n",
      "10\n",
      "Median\n",
      "30\n",
      "11\n"
     ]
    }
   ],
   "source": [
    "data = [11,12,11,11,11,11,45,67,23,16,17,19,18,22,20,19,13,13,13,14]\n",
    "range = max(data)-min(data)\n",
    "print(\"RANGE\")\n",
    "print(range)\n",
    "\n",
    "sum =0\n",
    "for i in data:\n",
    "    sum += i\n",
    "print(\"MEAN\")\n",
    "mean = sum/(len(data))\n",
    "print(mean)\n",
    "\n",
    "data.sort()\n",
    "print(data)\n",
    "print(\"total elements\")\n",
    "count = len(data)\n",
    "print(count)\n",
    "\n",
    "if(count%2)==0:\n",
    "    pos =(count+1)/2\n",
    "    print(pos)\n",
    "    pos = int(pos)\n",
    "    print(pos)\n",
    "    print(\"Median\")\n",
    "    median = data[pos]+data[pos-1]\n",
    "    print(median)\n",
    "else:\n",
    "    pos = count/2\n",
    "    pos += 0.5\n",
    "    print(pos)\n",
    "    pos = int(pos)\n",
    "    print(\"MEDIAN\")\n",
    "    median = data[pos-1]\n",
    "    print(median)\n",
    "\n",
    "\n",
    "\n",
    "\n",
    "mode = max(set(data),key=data.count)\n",
    "print(mode)"
   ]
  },
  {
   "cell_type": "code",
   "execution_count": 289,
   "id": "dd9eaa25-f86a-4f6d-990b-904df53119dd",
   "metadata": {},
   "outputs": [
    {
     "name": "stdout",
     "output_type": "stream",
     "text": [
      "RANGE\n",
      "6\n",
      "MEAN\n",
      "16.071428571428573\n",
      "[14, 14, 14, 15, 15, 15, 16, 16, 16, 16, 17, 18, 19, 20]\n",
      "total elements\n",
      "14\n",
      "7.5\n",
      "7\n",
      "Median\n",
      "32\n",
      "16\n"
     ]
    }
   ],
   "source": [
    "### mean median mode range #####\n",
    "\n",
    "data = [15, 14, 19, 20, 16, 15, 16, 14, 15, 18, 14, 16, 17, 16]\n",
    "\n",
    "range = max(data) - min(data)\n",
    "print(\"RANGE\")\n",
    "print(range)\n",
    "\n",
    "sum =0\n",
    "for i in data:\n",
    "    sum += i\n",
    "print(\"MEAN\")\n",
    "mean = sum/(len(data))\n",
    "print(mean)\n",
    "\n",
    "data.sort()\n",
    "print(data)\n",
    "print(\"total elements\")\n",
    "count = len(data)\n",
    "print(count)\n",
    "\n",
    "#pos gives the index\n",
    "if(count%2)==0:\n",
    "    pos =(count+1)/2\n",
    "    print(pos)\n",
    "    pos = int(pos)\n",
    "    print(pos)\n",
    "    print(\"Median\")\n",
    "    median = data[pos]+data[pos-1]# I have subtracted because list index starts from 0\n",
    "    print(median)\n",
    "else:\n",
    "    pos = count/2\n",
    "    pos += 0.5\n",
    "    print(pos)\n",
    "    pos = int(pos)\n",
    "    print(\"Median\")\n",
    "    median = data[pos-1]# I have subtracted because list index starts from 0\n",
    "    print(median)\n",
    "\n",
    "\n",
    "\n",
    "\n",
    "mode = max(set(data),key=data.count) # Here I am converting list to set. In set automatically duplicate values are removed.\n",
    "print(mode)\n"
   ]
  },
  {
   "cell_type": "code",
   "execution_count": 179,
   "id": "5a35b120-c31c-4542-b345-6168e7afc06f",
   "metadata": {},
   "outputs": [
    {
     "name": "stdout",
     "output_type": "stream",
     "text": [
      "mean: \n",
      "my variance1:  28.822364260579157\n",
      "my variance2:  28.822364260579157\n"
     ]
    }
   ],
   "source": [
    "\n",
    "##### variance#####\n",
    "\n",
    "results=[-14.82381293, -0.29423447, -13.56067979, -1.6288903, -0.31632439,\n",
    " \n",
    "         0.53459687, -1.34069996, -1.61042692, -4.03220519, -0.24332097]\n",
    "# calculate mean\n",
    "n= len(results)\n",
    "sum=0\n",
    "for i in results:\n",
    "    sum = sum + i\n",
    "\n",
    "\n",
    "mean=sum/n\n",
    "print ('mean: ')\n",
    "\n",
    "#  calculate the central moment\n",
    "sum2=0\n",
    "for i in results:\n",
    "    sum2=sum2+ (i-mean)**2\n",
    "\n",
    "myvar1=sum2/n\n",
    "print (\"my variance1: \",myvar1)\n",
    "\n",
    "# calculate the mean of square minus square of mean\n",
    "sum3=0\n",
    "for i in results:\n",
    "    sum3=sum3+ i**2\n",
    "\n",
    "myvar2 = sum3/n - mean**2\n",
    "print (\"my variance2: \",myvar2)"
   ]
  },
  {
   "cell_type": "code",
   "execution_count": 251,
   "id": "b5100ff8-0242-4ce0-9687-62ba38f0d63e",
   "metadata": {},
   "outputs": [
    {
     "name": "stdout",
     "output_type": "stream",
     "text": [
      "MEAN\n",
      "6.363636363636363\n",
      "5.454545454545455\n",
      "2.335496832484569\n",
      "Standard deviation\n",
      "2.335496832484569\n"
     ]
    }
   ],
   "source": [
    "### standard deviation , variance ,mean ####\n",
    "\n",
    "from math import sqrt\n",
    "\n",
    "n =[11, 8, 8, 3, 4, 4, 5, 6, 6, 7, 8]\n",
    "sum1=0\n",
    "for i in n:\n",
    "    sum1 += i\n",
    "\n",
    "print(\"MEAN\")\n",
    "mean =sum1/len(n)\n",
    "print(mean)\n",
    "\n",
    "SUM= 0\n",
    "for i in n :\n",
    "    SUM +=(i-mean)**2\n",
    "    \n",
    "variance = SUM/(len(n)-1)\n",
    "sd = sqrt(variance)\n",
    "print(variance)\n",
    "print(sd)\n",
    "print(\"Standard deviation\")\n",
    "stdeV = sqrt(SUM/(len(n)-1)) \n",
    "print(stdeV)"
   ]
  },
  {
   "cell_type": "code",
   "execution_count": 275,
   "id": "cf032f3b-584b-48d7-8214-d9c8167b3fab",
   "metadata": {},
   "outputs": [
    {
     "ename": "TypeError",
     "evalue": "'float' object is not callable",
     "output_type": "error",
     "traceback": [
      "\u001b[0;31m---------------------------------------------------------------------------\u001b[0m",
      "\u001b[0;31mTypeError\u001b[0m                                 Traceback (most recent call last)",
      "Cell \u001b[0;32mIn[275], line 10\u001b[0m\n\u001b[1;32m      6\u001b[0m num_list \u001b[38;5;241m=\u001b[39m[\u001b[38;5;241m11\u001b[39m, \u001b[38;5;241m8\u001b[39m, \u001b[38;5;241m8\u001b[39m, \u001b[38;5;241m3\u001b[39m, \u001b[38;5;241m4\u001b[39m, \u001b[38;5;241m4\u001b[39m, \u001b[38;5;241m5\u001b[39m, \u001b[38;5;241m6\u001b[39m, \u001b[38;5;241m6\u001b[39m, \u001b[38;5;241m7\u001b[39m, \u001b[38;5;241m8\u001b[39m]\n\u001b[1;32m      7\u001b[0m \u001b[38;5;66;03m#num_list = map(lambda n: n.rstrip(\"\\n\"), n)\u001b[39;00m\n\u001b[1;32m      8\u001b[0m \u001b[38;5;66;03m#num_list = [int(x) for x in num_list]\u001b[39;00m\n\u001b[0;32m---> 10\u001b[0m mean \u001b[38;5;241m=\u001b[39m \u001b[38;5;28mint\u001b[39m(\u001b[38;5;28msum\u001b[39m(num_list))\u001b[38;5;241m/\u001b[39m\u001b[38;5;28mlen\u001b[39m(num_list)\n\u001b[1;32m     12\u001b[0m \u001b[38;5;28mprint\u001b[39m(mean)\n\u001b[1;32m     13\u001b[0m \u001b[38;5;28mprint\u001b[39m(\u001b[38;5;28mmax\u001b[39m(num_list))\n",
      "\u001b[0;31mTypeError\u001b[0m: 'float' object is not callable"
     ]
    }
   ],
   "source": [
    "### for s.d from file ###\n",
    "#filename = \"C:\\Users\\mmb0368\\Desktop\\input.txt\"\n",
    "#file = open(\"C:\\Users\\mmb0368\\Desktop\\input.txt\",\"rb\")\n",
    "\n",
    "#n = file.readlines()\n",
    "num_list =[11, 8, 8, 3, 4, 4, 5, 6, 6, 7, 8]\n",
    "#num_list = map(lambda n: n.rstrip(\"\\n\"), n)\n",
    "#num_list = [int(x) for x in num_list]\n",
    "\n",
    "mean = int(sum(num_list))/len(num_list)\n",
    "\n",
    "print(mean)\n",
    "print(max(num_list))\n",
    "print(min(num_list))\n",
    "print(sum(num_list))\n"
   ]
  },
  {
   "cell_type": "code",
   "execution_count": 301,
   "id": "7d406084-c1a2-40eb-a2be-b420cd9ae0ab",
   "metadata": {},
   "outputs": [
    {
     "ename": "TypeError",
     "evalue": "'int' object is not callable",
     "output_type": "error",
     "traceback": [
      "\u001b[0;31m---------------------------------------------------------------------------\u001b[0m",
      "\u001b[0;31mTypeError\u001b[0m                                 Traceback (most recent call last)",
      "Cell \u001b[0;32mIn[301], line 2\u001b[0m\n\u001b[1;32m      1\u001b[0m a \u001b[38;5;241m=\u001b[39m [\u001b[38;5;241m1\u001b[39m,\u001b[38;5;241m2\u001b[39m]\n\u001b[0;32m----> 2\u001b[0m x\u001b[38;5;241m=\u001b[39m \u001b[38;5;28msum\u001b[39m(a)\n\u001b[1;32m      3\u001b[0m \u001b[38;5;28mprint\u001b[39m(x)\n",
      "\u001b[0;31mTypeError\u001b[0m: 'int' object is not callable"
     ]
    }
   ],
   "source": [
    "a = [1,2]\n",
    "x= sum(a)\n",
    "print(x)"
   ]
  },
  {
   "cell_type": "code",
   "execution_count": null,
   "id": "37531f38-c1e3-463d-9b3f-1fc3798133d5",
   "metadata": {},
   "outputs": [],
   "source": []
  }
 ],
 "metadata": {
  "kernelspec": {
   "display_name": "Python [conda env:base] *",
   "language": "python",
   "name": "conda-base-py"
  },
  "language_info": {
   "codemirror_mode": {
    "name": "ipython",
    "version": 3
   },
   "file_extension": ".py",
   "mimetype": "text/x-python",
   "name": "python",
   "nbconvert_exporter": "python",
   "pygments_lexer": "ipython3",
   "version": "3.12.7"
  }
 },
 "nbformat": 4,
 "nbformat_minor": 5
}
